{
 "cells": [
  {
   "cell_type": "markdown",
   "metadata": {},
   "source": [
    "# En analyse av ngrammer\n",
    "\n",
    "Det her er en oppstartsnotebook som skal gjøre deg kjent med funksjonaliteten, hvordan celler endres og hvordan en hypotese kan undersøkes med kvantitative data.  Temaet er kjønn og Beauvoirs tese om at kvinnen er sekundær, etter mannen, i vestlig kultur, og at kvinnen er knyttet mer til passive egenskaper, mens mannen er en agens. \n",
    "\n",
    "Måten vi undersøker hypotesen med tallmateriale er å se hva som sies om menn og kvinner, og et sted å starte er å telle pronomener. Metodikken er knyttet til relativ forekomst av ord og uttrykk sammen med de norske kjønnede pronomene *han* og *hun*."
   ]
  },
  {
   "cell_type": "markdown",
   "metadata": {},
   "source": [
    "## Kommandoene som skal benyttes ligger i modulen *nbtext*"
   ]
  },
  {
   "cell_type": "code",
   "execution_count": 2,
   "metadata": {},
   "outputs": [],
   "source": [
    "import nbtext as nb\n",
    "from nbtext import difference\n",
    "%matplotlib inline"
   ]
  },
  {
   "cell_type": "markdown",
   "metadata": {},
   "source": [
    "### Henter data fra ngram-basen\n",
    "\n",
    "Bruk kommandoen *nb_ngram()* for hente ngrammer, det som står mellom ' ' eller \" \" er det samme som skrives i versjonen på [web](https://www.nb.no/sp_tjenester/beta/ngram_1/trends#ngram/query?terms=i%2C+p%C3%A5&lang=all&case_sens=0&freq=rel&corpus=bok)."
   ]
  },
  {
   "cell_type": "code",
   "execution_count": null,
   "metadata": {},
   "outputs": [],
   "source": [
    "pron = nb.nb_ngram('han, hun', years = (1980, 2000), smooth=1, corpus='bok')\n",
    "pron"
   ]
  },
  {
   "cell_type": "markdown",
   "metadata": {},
   "source": [
    "## Resultatet er en dataramme\n",
    "\n",
    "Datarammer brukes flittig i alt fra ngrammer til tekstanalyse. Matrisene er en måte å representere kvantitative språklige data. Ikke så ulikt det noen kan være vant med fra excel-ark.\n",
    "\n",
    "Når en navn er knyttet til data, er det bare å skrive navnet i en celle for å se verdien, som gjort ovenfor. Vil du se et plot skriver du plot() bak variabelen."
   ]
  },
  {
   "cell_type": "code",
   "execution_count": null,
   "metadata": {
    "scrolled": true
   },
   "outputs": [],
   "source": [
    "pron.plot()"
   ]
  },
  {
   "cell_type": "markdown",
   "metadata": {},
   "source": [
    "Grafen viser tydelig at *han* forekommer oftere enn *hun*. Gir det et trygt grunnlag for å hevde at Beauvoir hadde rett? Vel, vi kan si så mye at det er rimelig å anta at det refereres mer til menn enn kvinner i norske bøker, og at det er en trend som holder seg godt over tid. Så på et nivå i kulturen følger kvinner etter menn. Dataene tar oss ikke til alle avkroker.\n",
    "\n",
    "Prøv en tilsvarende analyse med aviskorpuset."
   ]
  },
  {
   "cell_type": "markdown",
   "metadata": {},
   "source": [
    "Kolonnene i en dataramme kan summeres for å sammenligne forskjeller."
   ]
  },
  {
   "cell_type": "code",
   "execution_count": null,
   "metadata": {},
   "outputs": [],
   "source": [
    "pron.mean()['han']/pron.mean()['hun']"
   ]
  },
  {
   "cell_type": "code",
   "execution_count": null,
   "metadata": {},
   "outputs": [],
   "source": [
    "nb.frame(pron.mean(), 'sum')"
   ]
  },
  {
   "cell_type": "markdown",
   "metadata": {},
   "source": [
    "## Men hva med analyse og del to av Beauvoirs tese? \n",
    "\n",
    "Dataene i rammen *pron* kan divideres og ganges for å frem forskjeller. La oss se litt på det og undersøke forskjeller mellom maskuling og feminine referanser med utgangspunkt i forholdstallene over en periode. \n",
    "\n",
    "Utgangspunktet er forholdstallet mellom han og hun, skrevet som han/hun = 2.3. Det betyr at alle kontekster som har han i seg skal være omtrent 2.3 ganger høyere enn tilsvarende med hun. Er forskjellen større enn 2.3 er konteksten mer mannlig, tilsvarende kvinnelig om den er under 2.3. Utregningen er sånn at han/hun er grunnlinjen, slik at varianter som er høyere enn 1 trekker mot det mannlige, og under 1 mot det kvinnelige.\n",
    "\n",
    "For å sjekke forksjeller er det en kommando *difference()* som sjekker forholdet mellom 4 størrelser, de to siste vil i de første tilfellene var forholdet mellom *han* og *hun*. De to første er de som skal testes. Maskulin kontekst først, deretter feminin.\n",
    "\n"
   ]
  },
  {
   "cell_type": "code",
   "execution_count": null,
   "metadata": {},
   "outputs": [],
   "source": [
    "difference('ham', 'henne', 'han','hun')"
   ]
  },
  {
   "cell_type": "code",
   "execution_count": null,
   "metadata": {},
   "outputs": [],
   "source": [
    "difference('hans', 'hennes', 'han', 'hun')"
   ]
  },
  {
   "cell_type": "markdown",
   "metadata": {},
   "source": [
    "Det to siste gir støtte til del to av Beauvoirs tese. Dataene for ham/henne tyder på at hunkjønnspronomen er overrepresentert som objekt (men sjekk muligheten for at han også kan være objekt), og objekter er assosiert med det passive."
   ]
  },
  {
   "cell_type": "markdown",
   "metadata": {},
   "source": [
    "## Sjekk bigramkontekster\n",
    "\n",
    "Hvilke verb går sammen med pronomenene?"
   ]
  },
  {
   "cell_type": "code",
   "execution_count": null,
   "metadata": {},
   "outputs": [],
   "source": [
    "nb.difference('han mener', 'hun mener', 'han', 'hun')"
   ]
  },
  {
   "cell_type": "code",
   "execution_count": null,
   "metadata": {},
   "outputs": [],
   "source": [
    "nb.difference('han føler', 'hun føler', 'han', 'hun')"
   ]
  },
  {
   "cell_type": "code",
   "execution_count": null,
   "metadata": {},
   "outputs": [],
   "source": [
    "nb.difference('han gråter', 'hun gråter', 'han', 'hun')"
   ]
  },
  {
   "cell_type": "markdown",
   "metadata": {},
   "source": [
    "## Test andre kontekster ved hjelp av *difference()*\n",
    "\n",
    "Husk at de to siste ordene danner basisforholdet, så om vi skriver\n",
    "\n",
    "    difference(t1, t2, r1, r2,..)\n",
    "    \n",
    "Så er uttrykket som regnes ut relativt til r1/r2 - i sin helhet (t1/t2)/(r1/r2). Tall over 1 heller mot det som uttrykkes i r1, tall under 1 går mot r2."
   ]
  },
  {
   "cell_type": "code",
   "execution_count": null,
   "metadata": {},
   "outputs": [],
   "source": [
    "nb.difference('rike menn', 'rike kvinner', 'menn', 'kvinner')"
   ]
  },
  {
   "cell_type": "code",
   "execution_count": null,
   "metadata": {},
   "outputs": [],
   "source": [
    "nb.difference('fattige menn', 'fattige kvinner', 'menn', 'kvinner')"
   ]
  },
  {
   "cell_type": "code",
   "execution_count": null,
   "metadata": {},
   "outputs": [],
   "source": [
    "nb.difference('smarte menn', 'smarte kvinner', 'menn', 'kvinner')"
   ]
  },
  {
   "cell_type": "markdown",
   "metadata": {},
   "source": [
    "# Oppgave\n",
    "\n",
    "Repeter øvelsen med avisdata"
   ]
  },
  {
   "cell_type": "code",
   "execution_count": null,
   "metadata": {},
   "outputs": [],
   "source": [
    "nb.nb_ngram('han, hun', corpus='avis', years=(1980,2000),smooth=1).plot()"
   ]
  }
 ],
 "metadata": {
  "hide_input": false,
  "kernelspec": {
   "display_name": "Python 3",
   "language": "python",
   "name": "python3"
  },
  "language_info": {
   "codemirror_mode": {
    "name": "ipython",
    "version": 3
   },
   "file_extension": ".py",
   "mimetype": "text/x-python",
   "name": "python",
   "nbconvert_exporter": "python",
   "pygments_lexer": "ipython3",
   "version": "3.6.5"
  }
 },
 "nbformat": 4,
 "nbformat_minor": 2
}
